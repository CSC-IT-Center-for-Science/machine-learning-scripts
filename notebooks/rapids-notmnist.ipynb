{
 "cells": [
  {
   "cell_type": "code",
   "execution_count": null,
   "metadata": {},
   "outputs": [],
   "source": [
    "%matplotlib inline\n",
    "\n",
    "import cudf\n",
    "import cuml\n",
    "import os\n",
    "import struct\n",
    "import numpy as np\n",
    "import pandas as pd\n",
    "import matplotlib.pyplot as plt\n",
    "import numba\n",
    "import urllib.request\n",
    "\n",
    "from pml_utils import get_mnist, show_clusters\n",
    "import sklearn.cluster"
   ]
  },
  {
   "cell_type": "code",
   "execution_count": null,
   "metadata": {},
   "outputs": [],
   "source": [
    "def load_not_mnist(directory, filename):\n",
    "    filepath = os.path.join(directory, filename)\n",
    "    if os.path.isfile(filepath):\n",
    "        print('Not downloading, file already exists:', filepath)\n",
    "    else:\n",
    "        if not os.path.isdir(directory):\n",
    "            os.mkdir(directory)\n",
    "        url_base = 'https://a3s.fi/mldata/'\n",
    "        url = url_base + filename\n",
    "        print('Downloading {} to {}'.format(url, filepath))\n",
    "        urllib.request.urlretrieve(url, filepath)\n",
    "    return np.load(filepath)"
   ]
  },
  {
   "cell_type": "code",
   "execution_count": null,
   "metadata": {},
   "outputs": [],
   "source": [
    "# Load notMNIST\n",
    "DATA_DIR = os.path.expanduser('~/data/notMNIST/')\n",
    "X_train = load_not_mnist(DATA_DIR, 'notMNIST_large_images.npy').reshape(-1, 28*28)\n",
    "y_train = load_not_mnist(DATA_DIR, 'notMNIST_large_labels.npy')\n",
    "X_test = load_not_mnist(DATA_DIR, 'notMNIST_small_images.npy').reshape(-1, 28*28)\n",
    "y_test = load_not_mnist(DATA_DIR, 'notMNIST_small_labels.npy')"
   ]
  },
  {
   "cell_type": "code",
   "execution_count": null,
   "metadata": {},
   "outputs": [],
   "source": [
    "# Load MNIST\n",
    "#X_train, y_train, X_test, y_test = get_mnist('MNIST')"
   ]
  },
  {
   "cell_type": "code",
   "execution_count": null,
   "metadata": {},
   "outputs": [],
   "source": [
    "print()\n",
    "print('MNIST data loaded: train:',len(X_train),'test:',len(X_test))\n",
    "print('X_train:', type(X_train), 'shape:', X_train.shape)\n",
    "print('y_train:', type(y_train), 'shape:', y_train.shape)\n",
    "print('X_test:', type(X_test), 'shape:', X_test.shape)\n",
    "print('y_test:', type(y_test), 'shape:', y_test.shape)"
   ]
  },
  {
   "cell_type": "code",
   "execution_count": null,
   "metadata": {},
   "outputs": [],
   "source": [
    "pltsize=1\n",
    "plt.figure(figsize=(10*pltsize, pltsize))\n",
    "\n",
    "for i in range(10):\n",
    "    plt.subplot(1,10,i+1)\n",
    "    plt.axis('off')\n",
    "    plt.imshow(X_train[i,:].reshape(28, 28), cmap=\"gray\")\n",
    "    plt.title('Class: '+str(y_train[i]))"
   ]
  },
  {
   "cell_type": "code",
   "execution_count": null,
   "metadata": {},
   "outputs": [],
   "source": [
    "def np2cudf(df):\n",
    "    # convert numpy array to cuDF dataframe\n",
    "    df = pd.DataFrame({'fea%d'%i:df[:,i] for i in range(df.shape[1])})\n",
    "    pdf = cudf.DataFrame()\n",
    "    for c,column in enumerate(df):\n",
    "      pdf[str(c)] = df[column]\n",
    "    return pdf"
   ]
  },
  {
   "cell_type": "code",
   "execution_count": null,
   "metadata": {},
   "outputs": [],
   "source": [
    "#%%time\n",
    "#cu_X_train = cudf.DataFrame.from_pandas(pd.DataFrame(X_train))"
   ]
  },
  {
   "cell_type": "code",
   "execution_count": null,
   "metadata": {},
   "outputs": [],
   "source": [
    "#%%time\n",
    "#cu_X_train = np2cudf(X_train)"
   ]
  },
  {
   "cell_type": "code",
   "execution_count": null,
   "metadata": {},
   "outputs": [],
   "source": [
    "N=50000\n",
    "X_train = X_train[:N,:]\n",
    "y_train = y_train[:N]"
   ]
  },
  {
   "cell_type": "code",
   "execution_count": null,
   "metadata": {},
   "outputs": [],
   "source": [
    "%%time\n",
    "X_train_cuda = numba.cuda.to_device(X_train.astype(np.float32))\n",
    "y_train_cuda = numba.cuda.to_device(y_train.view(np.int32)-ord('A'))\n",
    "X_test_cuda = numba.cuda.to_device(X_test.astype(np.float32))\n"
   ]
  },
  {
   "cell_type": "code",
   "execution_count": null,
   "metadata": {},
   "outputs": [],
   "source": [
    "y_test_int = y_test.view(np.int32)-ord('A')"
   ]
  },
  {
   "cell_type": "code",
   "execution_count": null,
   "metadata": {},
   "outputs": [],
   "source": [
    "#%%time\n",
    "#k=10\n",
    "#kmeans = cuml.KMeans(n_clusters=k)\n",
    "#kmeans.fit(X_train_cuda)"
   ]
  },
  {
   "cell_type": "code",
   "execution_count": null,
   "metadata": {},
   "outputs": [],
   "source": [
    "#show_clusters(kmeans.labels_.copy_to_host(), k, X_train)"
   ]
  },
  {
   "cell_type": "code",
   "execution_count": null,
   "metadata": {},
   "outputs": [],
   "source": [
    "#%%time\n",
    "#kmeans = sklearn.cluster.KMeans(n_clusters=k)\n",
    "#kmeans.fit(X_train)"
   ]
  },
  {
   "cell_type": "code",
   "execution_count": null,
   "metadata": {},
   "outputs": [],
   "source": [
    "%%time\n",
    "rf_clf = cuml.ensemble.RandomForestClassifier(max_features=1.0, n_estimators=100, max_depth=12)\n",
    "rf_clf.fit(X_train_cuda, y_train_cuda)"
   ]
  },
  {
   "cell_type": "code",
   "execution_count": null,
   "metadata": {},
   "outputs": [],
   "source": [
    "preds = rf_clf.predict(X_test_cuda)"
   ]
  },
  {
   "cell_type": "code",
   "execution_count": null,
   "metadata": {},
   "outputs": [],
   "source": [
    "accuracy_score(y_test, preds)"
   ]
  },
  {
   "cell_type": "code",
   "execution_count": null,
   "metadata": {},
   "outputs": [],
   "source": []
  }
 ],
 "metadata": {
  "kernelspec": {
   "display_name": "Python 3",
   "language": "python",
   "name": "python3"
  },
  "language_info": {
   "codemirror_mode": {
    "name": "ipython",
    "version": 3
   },
   "file_extension": ".py",
   "mimetype": "text/x-python",
   "name": "python",
   "nbconvert_exporter": "python",
   "pygments_lexer": "ipython3",
   "version": "3.7.8"
  }
 },
 "nbformat": 4,
 "nbformat_minor": 4
}
